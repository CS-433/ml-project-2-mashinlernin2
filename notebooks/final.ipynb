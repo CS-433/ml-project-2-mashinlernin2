{
 "cells": [
  {
   "cell_type": "markdown",
   "metadata": {},
   "source": [
    "#### Imports"
   ]
  },
  {
   "cell_type": "code",
   "execution_count": null,
   "metadata": {},
   "outputs": [],
   "source": [
    "import os, sys, copy\n",
    "sys.path.append('..')\n",
    "import time\n",
    "import warnings\n",
    "warnings.filterwarnings(\"ignore\")\n",
    "\n",
    "import collections as coll\n",
    "import itertools as it\n",
    "import functools as ft\n",
    "\n",
    "import numpy as np\n",
    "import pandas as pd\n",
    "\n",
    "import matplotlib as mpl\n",
    "import matplotlib.pyplot as plt\n",
    "%matplotlib inline\n",
    "mpl.rc('figure',  figsize=(10, 5))\n",
    "mpl.rc('image', cmap='gray')\n",
    "from IPython.display import display\n",
    "\n",
    "import cv2\n",
    "import trackpy as tp\n",
    "from PIL import Image\n",
    "\n",
    "from src.capture import LazyCapture\n",
    "from src.frames import cast, select_channel, plicate_channel, remove_borders, remove_outside_petri, annotate, average\n",
    "from src.labels import load_labels, map_labels, l2arr, l2i, larr2i\n",
    "from src.debug import print_frame, carrousel\n",
    "from src.augmentation import h_mirror_frame, h_mirror_label, v_mirror_frame, v_mirror_label, rotate_90_frame, rotate_90_label,\\\n",
    "    rotate_180_frame, rotate_180_label, rotate_270_frame, rotate_270_label\n",
    "from src.evaluation import evaluate, custom_accuracy, distance"
   ]
  },
  {
   "cell_type": "markdown",
   "metadata": {},
   "source": [
    "## Harcoded"
   ]
  },
  {
   "cell_type": "markdown",
   "metadata": {},
   "source": [
    "#### Load raw data"
   ]
  },
  {
   "cell_type": "code",
   "execution_count": null,
   "metadata": {},
   "outputs": [],
   "source": [
    "captures = [\n",
    "    LazyCapture.load('../data/pw1_A1_0315_part1.avi'),\n",
    "    LazyCapture.load('../data/pw1_A1_0315_part2.avi'),\n",
    "    LazyCapture.load('../data/pw1_A1_0315_part3.avi'),\n",
    "    LazyCapture.load('../data/pw1_A1_0315_part4.avi')\n",
    "]\n",
    "\n",
    "labels = [\n",
    "    load_labels('../data/pw1_A1_0315_part1.txt'),\n",
    "    load_labels('../data/pw1_A1_0315_part2.txt'),\n",
    "    load_labels('../data/pw1_A1_0315_part3.txt')\n",
    "]"
   ]
  },
  {
   "cell_type": "markdown",
   "metadata": {},
   "source": [
    "##### Apply basic transformations"
   ]
  },
  {
   "cell_type": "code",
   "execution_count": null,
   "metadata": {},
   "outputs": [],
   "source": [
    "reverse = False\n",
    "\n",
    "for capture in captures:\n",
    "    w, h = capture.W(), capture.H()\n",
    "    capture.apply(select_channel(1), shape=(w, h, 1), reverse=reverse)\n",
    "    capture.apply(remove_outside_petri((w//2, h//2), (w//2 - 20, h//2 - 20)), reverse=reverse)\n",
    "    #capture.apply(remove_borders(20, hard=True), shape=(w-40, h-40, 1), reverse=reverse)\n",
    "\n",
    "for i in range(len(labels)):\n",
    "    labels[i] = map_labels(labels[i], lambda l: l2arr(l)) # - 20\n",
    "\n",
    "CW, CH = captures[0].W(), captures[0].H()"
   ]
  },
  {
   "cell_type": "markdown",
   "metadata": {},
   "source": [
    "#### Target capture and labels"
   ]
  },
  {
   "cell_type": "code",
   "execution_count": null,
   "metadata": {},
   "outputs": [],
   "source": [
    "cap, cap_final = captures[3].clone(), captures[3].clone()\n",
    "#cap.apply(h_mirror_frame)\n",
    "\n",
    "lab = labels[0]\n",
    "#lab = map_labels(lab, lambda l: h_mirror_label(0, l, (cap.W(), cap.H())))"
   ]
  },
  {
   "cell_type": "markdown",
   "metadata": {},
   "source": [
    "#### CV2"
   ]
  },
  {
   "cell_type": "code",
   "execution_count": null,
   "metadata": {},
   "outputs": [],
   "source": [
    "# Removed from background_subtraction: frame = cv2.morphologyEx(frame, cv2.MORPH_CLOSE, np.ones((11,11), np.uint8))\n",
    "\n",
    "def background_subtraction(i, frame, acc):\n",
    "    frame = acc.apply(frame[:, :, 0])\n",
    "    frame = cv2.blur(frame, (5, 5))\n",
    "    return frame[:, :, np.newaxis], acc\n",
    "\n",
    "background_subtractor = cv2.createBackgroundSubtractorMOG2(history=300, varThreshold=32, detectShadows=False)\n",
    "background_subtractor.setNMixtures(2)\n",
    "\n",
    "cap.apply(background_subtraction, acc=background_subtractor)\n",
    "#carrousel(it.islice(cap.frames(), 0, 10000, 10))"
   ]
  },
  {
   "cell_type": "markdown",
   "metadata": {},
   "source": [
    "#### Trackpy"
   ]
  },
  {
   "cell_type": "code",
   "execution_count": null,
   "metadata": {},
   "outputs": [],
   "source": [
    "options = {\n",
    "    \"minmass\": 100, #40\n",
    "    \"maxsize\": None,\n",
    "    \"separation\": 30, # 50\n",
    "    \"noise_size\": 1,\n",
    "    \"smoothing_size\": None,\n",
    "    \"threshold\": 1,\n",
    "    \"invert\": False,\n",
    "    \"percentile\": 50, # 70\n",
    "    \"topn\": 5, # 10\n",
    "    \"preprocess\": False,\n",
    "    \"max_iterations\": 10, # 20\n",
    "    \"characterize\": False # True\n",
    "}"
   ]
  },
  {
   "cell_type": "code",
   "execution_count": null,
   "metadata": {},
   "outputs": [],
   "source": [
    "# Apply locate to every frame\n",
    "locations_list = []\n",
    "\n",
    "for i, frame in cap.frames(limit=4000):\n",
    "    locations = tp.locate(frame[:, :, 0], 9, **options) # 11\n",
    "    locations['frame'] = i\n",
    "    locations_list.append(locations)\n",
    "\n",
    "full_locations = pd.concat(locations_list)\n",
    "\n",
    "\"\"\"\n",
    "if len(locations) == 0:\n",
    "        nl, lm, sm, cm = cv2.connectedComponentsWithStats(frame[:, :, 0], connectivity=8)\n",
    "        if nl > 1:\n",
    "            max_area = np.argmax(sm[1:,-1]) + 1\n",
    "            if sm[max_area, -1] > 1000:\n",
    "                pos = cm[max_area]\n",
    "                locations = pd.DataFrame({\"y\": [pos[1]], \"x\": [pos[0]], \"mass\": [10000.0]})\n",
    "\"\"\"\n",
    "#tp.annotate(locations, frame[:, :, 0])"
   ]
  },
  {
   "cell_type": "code",
   "execution_count": null,
   "metadata": {},
   "outputs": [],
   "source": [
    "#trajectories = tp.predict.NearestVelocityPredict().link_df(full_locations, 31, memory=50)\n",
    "trajectories = tp.link(full_locations, 11, memory=50)\n",
    "#trajectories = trajectories.groupby('particle').filter(lambda x: x['x'].max() - x['y'].min() > 50 and x['x'].max() - x['y'].min() > 50)\n",
    "tp.plot_traj(trajectories, superimpose=captures[0].frame(0, index=False)[1])"
   ]
  },
  {
   "cell_type": "markdown",
   "metadata": {},
   "source": [
    "#### Select trajectory"
   ]
  },
  {
   "cell_type": "code",
   "execution_count": null,
   "metadata": {},
   "outputs": [],
   "source": [
    "# 0\n",
    "trajectories_filtered = trajectories.sort_values(['frame', 'mass'], ascending=[True, False]).drop_duplicates('frame')\n",
    "trajectories_filtered['particle'] = 0\n",
    "tp.plot_traj(trajectories_filtered, superimpose=captures[0].frame(0, index=False)[1])"
   ]
  },
  {
   "cell_type": "code",
   "execution_count": null,
   "metadata": {},
   "outputs": [],
   "source": [
    "# A\n",
    "particles = trajectories['particle'].value_counts()\n",
    "trajectories_filtered = trajectories[trajectories['particle'].isin(particles[particles > 50].index)]\n",
    "tp.plot_traj(trajectories_filtered, superimpose=captures[0].frame(0, index=False)[1])"
   ]
  },
  {
   "cell_type": "code",
   "execution_count": null,
   "metadata": {},
   "outputs": [],
   "source": [
    "# trajectories_filtered = trajectories_filtered.groupby('particle').filter(lambda x: (x['x'].max() - x['x'].min()) > 40 and (x['y'].max() - x['y'].min()) > 40)\n",
    "\n",
    "# B\n",
    "particles = trajectories['particle'].value_counts()\n",
    "relevant_particles = particles[particles > 200]\n",
    "trajectories_filtered = trajectories.merge(relevant_particles, how='inner', left_on='particle', right_index=True)\n",
    "trajectories_filtered = trajectories_filtered.sort_values(['frame', 'particle_y'], ascending=[True, False]).drop_duplicates('frame')\n",
    "trajectories_filtered['particle'] = 0\n",
    "tp.plot_traj(trajectories_filtered, superimpose=captures[0].frame(0, index=False)[1])\n",
    "#best_particle = trajectories.groupby('frame').filter(lambda x: )"
   ]
  },
  {
   "cell_type": "markdown",
   "metadata": {},
   "source": [
    "#### Fill trajectory"
   ]
  },
  {
   "cell_type": "code",
   "execution_count": null,
   "metadata": {},
   "outputs": [],
   "source": [
    "full_trajectories = trajectories_filtered.set_index('frame').reindex(np.arange(cap.length())).reset_index().ffill()"
   ]
  },
  {
   "cell_type": "markdown",
   "metadata": {},
   "source": [
    "#### Extract labels"
   ]
  },
  {
   "cell_type": "code",
   "execution_count": null,
   "metadata": {},
   "outputs": [],
   "source": [
    "labels_predicted = {int(row['frame']): np.array([row['x'], row['y']]) for _, row in full_trajectories.iterrows()}"
   ]
  },
  {
   "cell_type": "code",
   "execution_count": null,
   "metadata": {},
   "outputs": [],
   "source": [
    "with open('out.txt', 'w') as file:\n",
    "    file.write(\"frame;x;y\\n\")\n",
    "    file.writelines([\"{};{:.2f};{:.2f}\\n\".format(f, x, y) for f, (x, y) in labels_predicted.items()])"
   ]
  },
  {
   "cell_type": "markdown",
   "metadata": {},
   "source": [
    "#### Evaluate"
   ]
  },
  {
   "cell_type": "code",
   "execution_count": null,
   "metadata": {},
   "outputs": [],
   "source": [
    "# Evaluate \n",
    "acc = evaluate(lab, labels_predicted, custom_accuracy(7, 10))\n",
    "dist = evaluate(lab, labels_predicted, distance())\n",
    "acc, dist"
   ]
  },
  {
   "cell_type": "markdown",
   "metadata": {},
   "source": [
    "#### Carrousel"
   ]
  },
  {
   "cell_type": "code",
   "execution_count": null,
   "metadata": {},
   "outputs": [],
   "source": [
    "cap.apply(plicate_channel(3), shape=(cap.W(), cap.H(), 3))\n",
    "#cap_final.apply(annotate(map_labels(lab, larr2i)))\n",
    "cap.apply(annotate(map_labels(labels_predicted, larr2i), color=[0, 255, 0]))\n",
    "carrousel(it.islice(cap.frames(), 0, cap.length(), 20))"
   ]
  },
  {
   "cell_type": "markdown",
   "metadata": {},
   "source": [
    "## Functions"
   ]
  },
  {
   "cell_type": "code",
   "execution_count": null,
   "metadata": {},
   "outputs": [],
   "source": []
  }
 ],
 "metadata": {
  "kernelspec": {
   "display_name": "Python 3.10.6 ('ML-DL')",
   "language": "python",
   "name": "python3"
  },
  "language_info": {
   "codemirror_mode": {
    "name": "ipython",
    "version": 3
   },
   "file_extension": ".py",
   "mimetype": "text/x-python",
   "name": "python",
   "nbconvert_exporter": "python",
   "pygments_lexer": "ipython3",
   "version": "3.10.6"
  },
  "orig_nbformat": 4,
  "vscode": {
   "interpreter": {
    "hash": "f31d7805d5e302eed96865e91378eb71a7817f05626369305849ffe6a6037b18"
   }
  }
 },
 "nbformat": 4,
 "nbformat_minor": 2
}
