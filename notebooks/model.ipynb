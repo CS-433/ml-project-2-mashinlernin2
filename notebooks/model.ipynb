{
 "cells": [
  {
   "cell_type": "markdown",
   "metadata": {},
   "source": [
    "### Imports"
   ]
  },
  {
   "cell_type": "code",
   "execution_count": null,
   "metadata": {},
   "outputs": [],
   "source": [
    "import copy\n",
    "import collections as coll\n",
    "import functools as ft\n",
    "import numpy as np\n",
    "import matplotlib.pyplot as plt\n",
    "import cv2"
   ]
  },
  {
   "cell_type": "markdown",
   "metadata": {},
   "source": [
    "### Main class"
   ]
  },
  {
   "cell_type": "code",
   "execution_count": null,
   "metadata": {},
   "outputs": [],
   "source": [
    "class Capture: # lazify?\n",
    "    \n",
    "    # Constructor\n",
    "    def __init__(self, length, W, H, C, frames): # assume the parameters are correct\n",
    "        self._length = length\n",
    "        self._W = W\n",
    "        self._H = H\n",
    "        self._C = C\n",
    "        self._frames = frames\n",
    "\n",
    "    # Factories\n",
    "    @classmethod\n",
    "    def load(cls, path): # 'path' can be either a '.avi' or a wildcard for '.jpeg' images\n",
    "        frames = []\n",
    "        cap = cv2.VideoCapture(path)\n",
    "        length, W, H, C = 0, 0, 0, 0\n",
    "        ret, frame = cap.read()\n",
    "        if ret:\n",
    "            W, H, C = frame.shape\n",
    "            frames.append((0, frame))\n",
    "            length = 1\n",
    "            ret, frame = cap.read()\n",
    "            while ret:\n",
    "                frames.append((length, frame))\n",
    "                length = length + 1\n",
    "                ret, frame = cap.read()\n",
    "        cap.release()\n",
    "        return cls(length, W, H, C, frames)\n",
    "\n",
    "    @classmethod\n",
    "    def concat(cls, captures):\n",
    "        assert captures\n",
    "        frames = captures[0]\n",
    "        length, W, H, C = captures[0]._length, captures[0]._W, captures[0]._H, captures[0]._C\n",
    "        max_index = captures[0]._frames[-1][0] if captures[0]._length else 0\n",
    "        for capture in captures[1:]:\n",
    "            assert capture._W == W and capture._H == H and capture._C == C\n",
    "            frames.extend([(i+max_index, frame) for i, frame in capture._frames])\n",
    "            length = length + capture._length\n",
    "            max_index = max_index + capture._frames[-1][0] if capture._length else 0\n",
    "        return cls(length, W, H, C, frames)\n",
    "\n",
    "    # Misc\n",
    "    def clone(self):\n",
    "        return Capture(self._length, self._W, self._H, self._C, copy.deepcopy(self._frames))\n",
    "\n",
    "    def write(self, path, fps=50):\n",
    "        if self._length:\n",
    "            assert self._C == 3\n",
    "            out = cv2.VideoWriter(path, cv2.VideoWriter_fourcc('M','J','P','G'), fps, (self._W, self._H))\n",
    "            for _, frame in self._frames:\n",
    "                out.write(frame)\n",
    "            out.release()\n",
    "\n",
    "    # Getters\n",
    "    def length(self):\n",
    "        return self._length\n",
    "\n",
    "    def W(self):\n",
    "        return self._W\n",
    "\n",
    "    def H(self):\n",
    "        return self._H\n",
    "\n",
    "    def C(self):\n",
    "        return self._C\n",
    "    \n",
    "    def frame(self, frame, index=True):\n",
    "        if index:\n",
    "            frames_dict = dict(self._frames)\n",
    "            assert frame in frames_dict\n",
    "            return frames_dict[frame]\n",
    "        else:\n",
    "            assert frame >= 0 and frame < self._length\n",
    "            return self.frames[frame]\n",
    "\n",
    "    def frames_dict(self):\n",
    "        return dict(self._frames)\n",
    "\n",
    "    # Index\n",
    "\n",
    "    def index(self):\n",
    "        return [i for i, _ in self._frames]\n",
    "    \n",
    "    def reset_index(self):\n",
    "        self._frames = list(enumerate([frame for _, frame in self._frames]))\n",
    "\n",
    "    # Iterators\n",
    "    def frames(self, reverse=False):\n",
    "        if not reverse:\n",
    "            return iter(reversed(self._frames))\n",
    "        else:\n",
    "            return iter(self._frames)\n",
    "\n",
    "    # Operations\n",
    "\n",
    "    def filter(self, func):\n",
    "        tmp = [(i, frame) for i, frame in self._frames if func(i, frame)]\n",
    "        self._length = len(tmp)\n",
    "        self._frames = tmp\n",
    "\n",
    "    def extract(self, func):\n",
    "        return [func(i, frame) for i, frame in self._frames]\n",
    "\n",
    "    def foreach(self, func, zip=None, acc=None, reverse=False):\n",
    "        for i in reversed(range(self._length)) if reverse else range(self._length):\n",
    "            if acc is not None:\n",
    "                if zip is not None:\n",
    "                    if isinstance(zip, list):\n",
    "                        assert len(zip) == self._length\n",
    "                        acc = func(self._frames[i][0], self._frames[i][1], zip[i], acc)\n",
    "                    elif isinstance(zip, dict):\n",
    "                        assert set(zip.keys()).issubset(set(dict(self._frames).keys()))\n",
    "                        acc = func(self._frames[i][0], self._frames[i][1], zip.get(self._frames[i][0], None), acc)\n",
    "                else:\n",
    "                    acc = func(self._frames[i][0], self._frames[i][1], acc)\n",
    "            else:\n",
    "                if zip is not None:\n",
    "                    if isinstance(zip, list):\n",
    "                        assert len(zip) == self._length\n",
    "                        func(self._frames[i][0], self._frames[i][1], zip[i])\n",
    "                    elif isinstance(zip, dict):\n",
    "                        assert set(zip.keys()).issubset(set(dict(self._frames).keys()))\n",
    "                        func(self._frames[i][0], self._frames[i][1], zip.get(self._frames[i][0], None))\n",
    "                else:\n",
    "                    func(self._frames[i][0], self._frames[i][1])\n",
    "\n",
    "    def apply(self, func, zip=None, acc=None, reverse=False, shape=None):\n",
    "        for i in reversed(range(self._length)) if reverse else range(self._length):\n",
    "            if acc is not None:\n",
    "                if zip is not None:\n",
    "                    if isinstance(zip, list):\n",
    "                        assert len(zip) == self._length\n",
    "                        frame, acc = func(self._frames[i][0], self._frames[i][1], zip[i], acc)\n",
    "                    elif isinstance(zip, dict):\n",
    "                        assert set(zip.keys()).issubset(set(dict(self._frames).keys()))\n",
    "                        frame, acc = func(self._frames[i][0], self._frames[i][1], zip.get(self._frames[i][0], None), acc)\n",
    "                else:\n",
    "                   frame, acc = func(self._frames[i][0], self._frames[i][1], acc)\n",
    "            else:\n",
    "                if zip is not None:\n",
    "                    if isinstance(zip, list):\n",
    "                        assert len(zip) == self._length\n",
    "                        frame = func(self._frames[i][0], self._frames[i][1], zip[i])\n",
    "                    elif isinstance(zip, dict):\n",
    "                        assert set(zip.keys()).issubset(set(dict(self._frames).keys()))\n",
    "                        frame = func(self._frames[i][0], self._frames[i][1], zip.get(self._frames[i][0], None))\n",
    "                else:\n",
    "                    frame = func(self._frames[i][0], self._frames[i][1])\n",
    "            assert frame.shape == (shape if shape is not None else (self._W, self._H, self._C))\n",
    "            self._frames[i] = (self._frames[i][0], frame)\n",
    "        if shape is not None:\n",
    "            self._W, self._H, self._C = shape\n",
    "\n",
    "\n",
    "    def rolling(self, func, window, zip=None, acc=None, reverse=False, shape=None): # allow selecting position within window, allow lossless (fill ends with copies of end item), even window\n",
    "        assert window % 2 == 1\n",
    "        assert self._length >= window\n",
    "        half_window = window // 2\n",
    "        q, lq = (self._frames[-window:], self._length - window - 1) if reverse else (self._frames[:window], window)\n",
    "        r = range(half_window, self._length - half_window)\n",
    "        for i in reversed(r) if reverse else r:\n",
    "            if acc is not None:\n",
    "                if zip is not None:\n",
    "                    if isinstance(zip, list):\n",
    "                        assert len(zip) == self._length\n",
    "                        frame, acc = func(self._frames[i][0], q, zip[i], acc)\n",
    "                    elif isinstance(zip, dict):\n",
    "                        assert set(zip.keys()).issubset(set(dict(self._frames).keys()))\n",
    "                        frame, acc = func(self._frames[i][0], q, zip.get(self._frames[i][0], None), acc)\n",
    "                else:\n",
    "                   frame, acc = func(self._frames[i][0], q, acc)\n",
    "            else:\n",
    "                if zip is not None:\n",
    "                    if isinstance(zip, list):\n",
    "                        assert len(zip) == self._length\n",
    "                        frame = func(self._frames[i][0], q, zip[i])\n",
    "                    elif isinstance(zip, dict):\n",
    "                        assert set(zip.keys()).issubset(set(dict(self._frames).keys()))\n",
    "                        frame = func(self._frames[i][0], q, zip.get(self._frames[i][0], None))\n",
    "                else:\n",
    "                    frame = func(self._frames[i][0], q)\n",
    "            assert frame.shape == (shape if shape is not None else (self._W, self._H, self._C))\n",
    "            self._frames[i] = (self._frames[i][0], frame)\n",
    "            if reverse:\n",
    "                q.pop()\n",
    "                q.insert(0, self._frames[lq])\n",
    "                lq = lq - 1\n",
    "            else:\n",
    "                q.pop(0)\n",
    "                q.append(self._frames[lq])\n",
    "                lq = lq + 1\n",
    "        if shape is not None:\n",
    "            self._W, self._H, self._C = shape\n",
    "\n",
    "    def __del__(self):\n",
    "        self._frames = None\n"
   ]
  },
  {
   "cell_type": "code",
   "execution_count": null,
   "metadata": {},
   "outputs": [],
   "source": [
    "# get labels from .txt file\n",
    "# input: path of the file\n",
    "# output: dictionary where key = slice number, value = true (i, j) coordinates of the worm\n",
    "# TODO: why do we keep the first slice value?\n",
    "def load_labels(path):\n",
    "    file = open(path, 'r')\n",
    "    slice = -1\n",
    "    ret = {}\n",
    "    for i, line in enumerate(file.readlines()):\n",
    "        fields = line.split()\n",
    "        if i == 0 or fields[7] == slice:\n",
    "            continue\n",
    "        true_i = float(fields[6])\n",
    "        true_j = float(fields[5])\n",
    "        slice = int(fields[7])\n",
    "        ret[slice] = (true_i, true_j)\n",
    "    return ret"
   ]
  },
  {
   "cell_type": "markdown",
   "metadata": {},
   "source": [
    "### Utils"
   ]
  },
  {
   "cell_type": "code",
   "execution_count": null,
   "metadata": {},
   "outputs": [],
   "source": [
    "def print_frame(single_channel=False):\n",
    "    def _inner(i, frame, positions):\n",
    "        W, H, C = frame.shape\n",
    "        if single_channel:\n",
    "            frame_p = np.zeros([W,H,3])\n",
    "            frame_p[:,:,0] = frame/255\n",
    "            frame_p[:,:,1] = frame/255\n",
    "            frame_p[:,:,2] = frame/255\n",
    "            frame = frame_p\n",
    "\n",
    "        if positions:\n",
    "            true_pos, estimated_pos = positions\n",
    "            t1, t2 = true_pos[0], true_pos[1]\n",
    "            e1, e2 = estimated_pos[0], estimated_pos[1]\n",
    "            frame[t1-2:t1+2, t2-2:t2+2] = np.array([0, 1, 0])\n",
    "            frame[e1-2:e1+2, e2-2:e2+2] = np.array([1, 0, 0])\n",
    "\n",
    "        plt.imshow(frame, cmap='viridis')\n",
    "        plt.show()\n",
    "    return _inner"
   ]
  },
  {
   "cell_type": "code",
   "execution_count": null,
   "metadata": {},
   "outputs": [],
   "source": [
    "def select_channel(channel):\n",
    "    def _inner(i, frame):\n",
    "        frame = frame[:,:,channel:channel+1]\n",
    "        return frame\n",
    "    return _inner"
   ]
  },
  {
   "cell_type": "markdown",
   "metadata": {},
   "source": [
    "### Preprocessing functions\n"
   ]
  },
  {
   "cell_type": "code",
   "execution_count": null,
   "metadata": {},
   "outputs": [],
   "source": [
    "# sets to 0 the borders of a one channel frame. \n",
    "# The width of the border is specified by n_pixels\n",
    "def remove_borders(pixels):\n",
    "    def _inner(i, frame):\n",
    "        W, H, _ = frame.shape\n",
    "        frame[:pixels, :, :] = frame[W-pixels:, :, :] = frame[:, :pixels, :] = frame[:, H-pixels:, :] = 0\n",
    "    return _inner"
   ]
  },
  {
   "cell_type": "code",
   "execution_count": null,
   "metadata": {},
   "outputs": [],
   "source": [
    "def remove_outside_petri(center, radius_i, radius_j):\n",
    "    def _inner(i, frame):\n",
    "        W, H, _ = frame.shape\n",
    "        I, J = np.ogrid[:W, :H]\n",
    "        dist_from_center = ((I - center[0])/radius_i)**2 + ((J-center[1])/radius_j)**2\n",
    "        mask = dist_from_center <= 1\n",
    "        frame[~mask, :] = 0\n",
    "    return _inner"
   ]
  },
  {
   "cell_type": "markdown",
   "metadata": {},
   "source": [
    "### Metrics"
   ]
  },
  {
   "cell_type": "code",
   "execution_count": null,
   "metadata": {},
   "outputs": [],
   "source": [
    "\n",
    "\n",
    "\"\"\"\n",
    "Calculates a custom accuracy, using ell infinity norm. \n",
    "For each frame, if estimated pos and labels are closer than distance small_radix,\n",
    "we get a score of 1. Else if it's closer than big_radix, we get a score of 0.5. \n",
    "Otherwise, 0. Then, the accuracy is normalized between 0 and 1.\n",
    "Input:\n",
    "    labels: dict containing labels to the frames (some are missing)\n",
    "    pos_hat: dict containing estimated pos to the frames\n",
    "\"\"\"\n",
    "def custom_accuracy(labels, pos_hat, small_radix=10, big_radix=10):\n",
    "    def ell_inf_dist(p1, p2):\n",
    "        return max(np.abs(p1[0] - p2[0]), np.abs(p1[1] - p2[1]))\n",
    "    acc = 0\n",
    "    for t in labels:\n",
    "        if t in pos_hat:\n",
    "            dist = ell_inf_dist(labels[t], pos_hat[t])\n",
    "            if dist <= small_radix:\n",
    "                acc += 1\n",
    "            elif dist <= big_radix:\n",
    "                acc += 0.5\n",
    "    return acc / len(labels)"
   ]
  },
  {
   "cell_type": "markdown",
   "metadata": {},
   "source": [
    "# Testing"
   ]
  },
  {
   "cell_type": "code",
   "execution_count": null,
   "metadata": {},
   "outputs": [],
   "source": [
    "o_cap = Capture.load('../data/pw1_A1_0315_part3.avi')"
   ]
  },
  {
   "cell_type": "code",
   "execution_count": null,
   "metadata": {},
   "outputs": [],
   "source": [
    "o_cap.H()"
   ]
  },
  {
   "cell_type": "code",
   "execution_count": null,
   "metadata": {},
   "outputs": [],
   "source": [
    "print_frame()(0, o_cap.frame(0), None)"
   ]
  },
  {
   "cell_type": "code",
   "execution_count": null,
   "metadata": {},
   "outputs": [],
   "source": [
    "cap = o_cap.clone()"
   ]
  },
  {
   "cell_type": "code",
   "execution_count": null,
   "metadata": {},
   "outputs": [],
   "source": [
    "cap.filter(lambda i, _: i > 5 and i < 20)"
   ]
  },
  {
   "cell_type": "code",
   "execution_count": null,
   "metadata": {},
   "outputs": [],
   "source": [
    "cap.reset_index()"
   ]
  },
  {
   "cell_type": "code",
   "execution_count": null,
   "metadata": {},
   "outputs": [],
   "source": [
    "cap.index()"
   ]
  },
  {
   "cell_type": "code",
   "execution_count": null,
   "metadata": {},
   "outputs": [],
   "source": [
    "cap.extract(lambda _, x: np.sum(x))"
   ]
  },
  {
   "cell_type": "code",
   "execution_count": null,
   "metadata": {},
   "outputs": [],
   "source": [
    "cap.filter(lambda i, _: i > 5 and i < 20)\n",
    "cap.apply(lambda i, x: x + np.ones(x.shape) * 200)"
   ]
  },
  {
   "cell_type": "code",
   "execution_count": null,
   "metadata": {},
   "outputs": [],
   "source": [
    "def __ii(i, x, z, a):\n",
    "    print(dict(x).keys(), a)\n",
    "    return x[len(x)//2+1][1], a+1\n",
    "    \n",
    "\n",
    "cap.rolling(__ii, 3, zip=list(range(14)), acc=1)"
   ]
  }
 ],
 "metadata": {
  "kernelspec": {
   "display_name": "Python 3.10.6 ('ML-DL')",
   "language": "python",
   "name": "python3"
  },
  "language_info": {
   "codemirror_mode": {
    "name": "ipython",
    "version": 3
   },
   "file_extension": ".py",
   "mimetype": "text/x-python",
   "name": "python",
   "nbconvert_exporter": "python",
   "pygments_lexer": "ipython3",
   "version": "3.10.6"
  },
  "orig_nbformat": 4,
  "vscode": {
   "interpreter": {
    "hash": "f31d7805d5e302eed96865e91378eb71a7817f05626369305849ffe6a6037b18"
   }
  }
 },
 "nbformat": 4,
 "nbformat_minor": 2
}
