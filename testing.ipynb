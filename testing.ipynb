{
 "cells": [
  {
   "cell_type": "code",
   "execution_count": 1,
   "metadata": {},
   "outputs": [],
   "source": [
    "from src.capture import Capture, LazyCapture\n",
    "from src.labels import load_labels\n",
    "from src.cleaning import select_channel, remove_borders, remove_outside_petri\n",
    "from src.debug import print_frame"
   ]
  },
  {
   "cell_type": "code",
   "execution_count": 2,
   "metadata": {},
   "outputs": [],
   "source": [
    "cap1 = LazyCapture.load('data/pw1_A1_0315_part3.avi')"
   ]
  },
  {
   "cell_type": "code",
   "execution_count": 3,
   "metadata": {},
   "outputs": [
    {
     "name": "stdout",
     "output_type": "stream",
     "text": [
      "12754 648 686 3\n"
     ]
    }
   ],
   "source": [
    "print(cap1.length(), cap1.W(), cap1.H(), cap1.C())"
   ]
  },
  {
   "cell_type": "code",
   "execution_count": 6,
   "metadata": {},
   "outputs": [],
   "source": [
    "import numpy as np\n",
    "def xx(i, frame):\n",
    "    point = (i % 500, i % 500)\n",
    "    frame[point[0]-2:point[0]+2, point[1]-2:point[1]+2] = np.array([0, 255, 0])\n",
    "    return frame"
   ]
  },
  {
   "cell_type": "code",
   "execution_count": 7,
   "metadata": {},
   "outputs": [],
   "source": [
    "cap1.apply(xx)\n",
    "cap1.write('data/out.avi')"
   ]
  }
 ],
 "metadata": {
  "kernelspec": {
   "display_name": "Python 3.10.6 ('ML-DL')",
   "language": "python",
   "name": "python3"
  },
  "language_info": {
   "codemirror_mode": {
    "name": "ipython",
    "version": 3
   },
   "file_extension": ".py",
   "mimetype": "text/x-python",
   "name": "python",
   "nbconvert_exporter": "python",
   "pygments_lexer": "ipython3",
   "version": "3.10.6"
  },
  "orig_nbformat": 4,
  "vscode": {
   "interpreter": {
    "hash": "f31d7805d5e302eed96865e91378eb71a7817f05626369305849ffe6a6037b18"
   }
  }
 },
 "nbformat": 4,
 "nbformat_minor": 2
}
